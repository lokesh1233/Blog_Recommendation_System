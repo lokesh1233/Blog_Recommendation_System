{
 "cells": [
  {
   "cell_type": "markdown",
   "metadata": {},
   "source": [
    "## Build a recommendator system"
   ]
  },
  {
   "cell_type": "code",
   "execution_count": 7,
   "metadata": {},
   "outputs": [],
   "source": [
    "%matplotlib inline\n",
    "\n",
    "import itertools\n",
    "import warnings\n",
    "warnings.filterwarnings(\"ignore\")\n",
    "\n",
    "import pandas as pd\n",
    "import numpy as np\n",
    "import matplotlib.pyplot as plt\n",
    "import seaborn as sns\n",
    "sns.set_style(\"darkgrid\")\n",
    "\n",
    "import math as mt\n",
    "import time\n",
    "import re\n",
    "\n",
    "from surprise import Reader, Dataset, SVD, evaluate\n",
    "from scipy.sparse import csr_matrix, csc_matrix\n",
    "\n",
    "from sparsesvd import sparsesvd\n",
    "from scipy.sparse.linalg import *\n",
    "\n",
    "import Recommenders_pro as Recommenders\n",
    "import Evaluation_pro as Evaluation\n"
   ]
  },
  {
   "cell_type": "code",
   "execution_count": 8,
   "metadata": {},
   "outputs": [],
   "source": [
    "ratings = pd.read_csv(\"../data/processed/rating.csv\")\n",
    "users   = pd.read_csv(\"../data/processed/users.csv\", index_col=\"userId\")\n",
    "blogs = pd.read_csv(\"../data/processed/blogs.csv\", index_col=\"id\")\n",
    "\n",
    "ratings[\"rating\"] = ratings[\"rating\"].astype(float)\n",
    "\n",
    "# ratings to pivot table\n",
    "rating_piot = pd.pivot_table(ratings, values=\"rating\", index=\"userId\", columns=\"movieId\")"
   ]
  },
  {
   "cell_type": "markdown",
   "metadata": {},
   "source": [
    "## Popularity model"
   ]
  },
  {
   "cell_type": "code",
   "execution_count": 9,
   "metadata": {},
   "outputs": [
    {
     "data": {
      "text/html": [
       "<div>\n",
       "<style scoped>\n",
       "    .dataframe tbody tr th:only-of-type {\n",
       "        vertical-align: middle;\n",
       "    }\n",
       "\n",
       "    .dataframe tbody tr th {\n",
       "        vertical-align: top;\n",
       "    }\n",
       "\n",
       "    .dataframe thead th {\n",
       "        text-align: right;\n",
       "    }\n",
       "</style>\n",
       "<table border=\"1\" class=\"dataframe\">\n",
       "  <thead>\n",
       "    <tr style=\"text-align: right;\">\n",
       "      <th></th>\n",
       "      <th>userId</th>\n",
       "      <th>movieId</th>\n",
       "      <th>score</th>\n",
       "      <th>rank</th>\n",
       "    </tr>\n",
       "  </thead>\n",
       "  <tbody>\n",
       "    <tr>\n",
       "      <th>26</th>\n",
       "      <td></td>\n",
       "      <td>e11c38f98977</td>\n",
       "      <td>12</td>\n",
       "      <td>1.0</td>\n",
       "    </tr>\n",
       "    <tr>\n",
       "      <th>27</th>\n",
       "      <td></td>\n",
       "      <td>eacf251d78ad</td>\n",
       "      <td>11</td>\n",
       "      <td>2.0</td>\n",
       "    </tr>\n",
       "    <tr>\n",
       "      <th>5</th>\n",
       "      <td></td>\n",
       "      <td>40347c6ed448</td>\n",
       "      <td>9</td>\n",
       "      <td>3.0</td>\n",
       "    </tr>\n",
       "    <tr>\n",
       "      <th>1</th>\n",
       "      <td></td>\n",
       "      <td>1a0a0f6e69cb</td>\n",
       "      <td>8</td>\n",
       "      <td>4.0</td>\n",
       "    </tr>\n",
       "    <tr>\n",
       "      <th>9</th>\n",
       "      <td></td>\n",
       "      <td>66771889da10</td>\n",
       "      <td>8</td>\n",
       "      <td>5.0</td>\n",
       "    </tr>\n",
       "    <tr>\n",
       "      <th>13</th>\n",
       "      <td></td>\n",
       "      <td>95b0bf768745</td>\n",
       "      <td>8</td>\n",
       "      <td>6.0</td>\n",
       "    </tr>\n",
       "    <tr>\n",
       "      <th>7</th>\n",
       "      <td></td>\n",
       "      <td>6052b0cc43ac</td>\n",
       "      <td>7</td>\n",
       "      <td>7.0</td>\n",
       "    </tr>\n",
       "    <tr>\n",
       "      <th>30</th>\n",
       "      <td></td>\n",
       "      <td>eea0907cd0ae</td>\n",
       "      <td>7</td>\n",
       "      <td>8.0</td>\n",
       "    </tr>\n",
       "    <tr>\n",
       "      <th>12</th>\n",
       "      <td></td>\n",
       "      <td>7588781774b3</td>\n",
       "      <td>6</td>\n",
       "      <td>9.0</td>\n",
       "    </tr>\n",
       "    <tr>\n",
       "      <th>29</th>\n",
       "      <td></td>\n",
       "      <td>ebbcb4723c0e</td>\n",
       "      <td>6</td>\n",
       "      <td>10.0</td>\n",
       "    </tr>\n",
       "  </tbody>\n",
       "</table>\n",
       "</div>"
      ],
      "text/plain": [
       "   userId       movieId  score  rank\n",
       "26         e11c38f98977     12   1.0\n",
       "27         eacf251d78ad     11   2.0\n",
       "5          40347c6ed448      9   3.0\n",
       "1          1a0a0f6e69cb      8   4.0\n",
       "9          66771889da10      8   5.0\n",
       "13         95b0bf768745      8   6.0\n",
       "7          6052b0cc43ac      7   7.0\n",
       "30         eea0907cd0ae      7   8.0\n",
       "12         7588781774b3      6   9.0\n",
       "29         ebbcb4723c0e      6  10.0"
      ]
     },
     "execution_count": 9,
     "metadata": {},
     "output_type": "execute_result"
    }
   ],
   "source": [
    "## create an instance of popularity recommenders class\n",
    "pm = Recommenders.popularity_recommender_py()\n",
    "pm.create(ratings, 'userId', 'movieId')\n",
    "\n",
    "\n",
    "# blogs.loc[pm.recommend(\"\")[\"movieId\"][:5].values][\"title\"].to_dict()\n",
    "\n",
    "pm.recommend(\"\")"
   ]
  },
  {
   "cell_type": "markdown",
   "metadata": {},
   "source": [
    "## methods to compute singular value decomposition"
   ]
  },
  {
   "cell_type": "code",
   "execution_count": 76,
   "metadata": {},
   "outputs": [],
   "source": [
    "## constants defining the dimensions of our user rating matrix\n",
    "MAX_PID = 32\n",
    "MAX_UID = 27\n",
    "\n",
    "#Compute SVD of the user ratings matrix\n",
    "def computeSVD(urm, k):\n",
    "    U, s, Vt = sparsesvd(urm, k)\n",
    "    \n",
    "    dim = (len(s), len(s))\n",
    "    S = np.zeros(dim, dtype=np.float32)\n",
    "    for i in range(0, len(s)):\n",
    "        S[i, i] = mt.sqrt(s[i])\n",
    "    \n",
    "    U = csc_matrix(np.transpose(U), dtype=np.float32)\n",
    "    S = csc_matrix(S, dtype=np.float32)\n",
    "    Vt = csc_matrix(Vt, dtype=np.float32)\n",
    "    \n",
    "    return U, S, Vt\n",
    "\n",
    "#Compute estimated rating for the test user\n",
    "def computeEstimatedRatings(urm, U, S, Vt, uTest, K, test, MAX_UID, MAX_PID):\n",
    "    rightTerm = S*Vt\n",
    "    \n",
    "    estimatedRatings = np.zeros(shape=(MAX_UID, MAX_PID), dtype=np.float16)\n",
    "    for userTest in uTest:\n",
    "        prod = U[userTest,:]*rightTerm\n",
    "        \n",
    "        estimatedRatings[userTest,:] = prod.todense()\n",
    "        recom = (-estimatedRatings[userTest,:]).argsort()[:250]\n",
    "    return recom\n",
    "\n"
   ]
  },
  {
   "cell_type": "code",
   "execution_count": 106,
   "metadata": {},
   "outputs": [
    {
     "name": "stdout",
     "output_type": "stream",
     "text": [
      "User id for whom recommendations are needed: 5\n",
      "Predictied ratings:\n",
      "[27  9 12  5 25]\n"
     ]
    }
   ],
   "source": [
    "#Used in SVD calculation (number of latent factors)\n",
    "K=2\n",
    "\n",
    "#Initialize a sample user rating matrix\n",
    "urm = rating_piot.fillna(0).values\n",
    "urm_a = urm\n",
    "urm = csc_matrix(urm, dtype=np.float32)\n",
    "\n",
    "#Compute SVD of the input user ratings matrix\n",
    "U, S, Vt = computeSVD(urm, K)\n",
    "\n",
    "#Test user set as user_id 4 with ratings [0, 0, 5, 0]\n",
    "uTest = [5]\n",
    "print(\"User id for whom recommendations are needed: %d\" % uTest[0])\n",
    "\n",
    "#Get estimated rating for test user\n",
    "print(\"Predictied ratings:\")\n",
    "uTest_recommended_items = computeEstimatedRatings(urm, U, S, Vt, uTest, K, True, MAX_UID, MAX_PID)\n",
    "# mTest_recommended_items = computeEstimatedRatings(urm_m, U_m, S_m, Vt_m, mTest, K, True, MAX_UID_m, MAX_PID_m)\n",
    "\n",
    "\n",
    "print(uTest_recommended_items[:5])\n",
    "# print(mTest_recommended_items[:25])"
   ]
  },
  {
   "cell_type": "code",
   "execution_count": 80,
   "metadata": {},
   "outputs": [
    {
     "data": {
      "text/plain": [
       "{'ecfca5ab7518': 'How to Be Creative',\n",
       " '6e63ea497ad3': 'How to Be an Ethical Sugar Daddy',\n",
       " '2e42c3206223': 'How the Internet Made Us Believe in a Flat Earth',\n",
       " 'd2314d321403': 'The Truth About Finding a Satisfying Career',\n",
       " 'a25946836300': 'How Tucker Carlson Saved My Life'}"
      ]
     },
     "execution_count": 80,
     "metadata": {},
     "output_type": "execute_result"
    }
   ],
   "source": [
    "blogs.iloc[uTest_recommended_items[:5]]['title'].to_dict()"
   ]
  },
  {
   "cell_type": "code",
   "execution_count": 17,
   "metadata": {},
   "outputs": [],
   "source": [
    "# urm_a"
   ]
  },
  {
   "cell_type": "code",
   "execution_count": 16,
   "metadata": {},
   "outputs": [],
   "source": [
    "# users.reset_index(inplace=True)"
   ]
  },
  {
   "cell_type": "code",
   "execution_count": 15,
   "metadata": {},
   "outputs": [],
   "source": [
    "# users[users[\"userId\"] == \"a8634106cb64\"].index[0]"
   ]
  },
  {
   "cell_type": "code",
   "execution_count": 14,
   "metadata": {},
   "outputs": [],
   "source": [
    "# ' '.join(blogs['tags'].values)"
   ]
  },
  {
   "cell_type": "code",
   "execution_count": 13,
   "metadata": {},
   "outputs": [],
   "source": [
    "# type(blogs['tags'][0])"
   ]
  },
  {
   "cell_type": "code",
   "execution_count": 12,
   "metadata": {},
   "outputs": [],
   "source": [
    "# blogs[\"tags\"][0]"
   ]
  },
  {
   "cell_type": "code",
   "execution_count": 11,
   "metadata": {},
   "outputs": [],
   "source": [
    "# Users"
   ]
  },
  {
   "cell_type": "code",
   "execution_count": 10,
   "metadata": {},
   "outputs": [],
   "source": [
    "# users"
   ]
  },
  {
   "cell_type": "code",
   "execution_count": null,
   "metadata": {},
   "outputs": [],
   "source": []
  }
 ],
 "metadata": {
  "kernelspec": {
   "display_name": "Python 3",
   "language": "python",
   "name": "python3"
  },
  "language_info": {
   "codemirror_mode": {
    "name": "ipython",
    "version": 3
   },
   "file_extension": ".py",
   "mimetype": "text/x-python",
   "name": "python",
   "nbconvert_exporter": "python",
   "pygments_lexer": "ipython3",
   "version": "3.6.7"
  }
 },
 "nbformat": 4,
 "nbformat_minor": 2
}
